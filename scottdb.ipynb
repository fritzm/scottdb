{
 "cells": [
  {
   "cell_type": "markdown",
   "id": "18551656",
   "metadata": {},
   "source": [
    "# Database examples for Scott\n",
    "\n",
    "### Connect notebook to database\n",
    "\n",
    "We'll use the ipython-sql modules for convenient access from the notebook, and an in-memory sqlite database named \"scottdb\"."
   ]
  },
  {
   "cell_type": "code",
   "execution_count": null,
   "id": "0d747ecd",
   "metadata": {
    "scrolled": true
   },
   "outputs": [],
   "source": [
    "%load_ext sql\n",
    "%sql sqlite:///scottdb:memory:"
   ]
  },
  {
   "cell_type": "markdown",
   "id": "bbcecc5d",
   "metadata": {},
   "source": [
    "### Create database tables"
   ]
  },
  {
   "cell_type": "code",
   "execution_count": null,
   "id": "6c161d3a",
   "metadata": {},
   "outputs": [],
   "source": [
    "%%sql\n",
    "\n",
    "DROP TABLE IF EXISTS GamePlays;\n",
    "DROP TABLE IF EXISTS Games;\n",
    "\n",
    "CREATE TABLE Games (\n",
    "   ID INTEGER NOT NULL PRIMARY KEY,\n",
    "   Game TEXT,\n",
    "   Version TEXT,\n",
    "   Barcode TEXT,\n",
    "   MAC TEXT,\n",
    "   IP TEXT,\n",
    "   Location TEXT\n",
    ");\n",
    "\n",
    "CREATE TABLE GamePlays (\n",
    "   GameID INTEGER REFERENCES Games,\n",
    "   players INTEGER,\n",
    "   p1_fire INTEGER,\n",
    "   p2_fire INTEGER,\n",
    "   playtime INTEGER,\n",
    "   pwr_plays INTEGER,\n",
    "   p1_pwr_plays INTEGER,\n",
    "   p2_pwr_plays INTEGER,\n",
    "   Timestamp DATETIME NOT NULL DEFAULT CURRENT_TIMESTAMP      \n",
    ");"
   ]
  },
  {
   "cell_type": "markdown",
   "id": "9ff70f4d",
   "metadata": {},
   "source": [
    "### Insert some data\n",
    "\n",
    "This uses the \"sqlalchemy\" Python module which (more or less) automatically creates a bridge between Python objects and the database.\n",
    "\n",
    "We insert a few example Games, and a bunch of random GamePlays."
   ]
  },
  {
   "cell_type": "code",
   "execution_count": null,
   "id": "5603d227",
   "metadata": {},
   "outputs": [],
   "source": [
    "from random import *\n",
    "from datetime import *\n",
    "\n",
    "import sqlalchemy as sa\n",
    "\n",
    "eng = sa.create_engine('sqlite:///scottdb:memory:')\n",
    "meta = sa.MetaData()\n",
    "meta.reflect(bind=eng)\n",
    "\n",
    "Games = meta.tables['Games']\n",
    "GamePlays = meta.tables['GamePlays']\n",
    "\n",
    "exampleGames = [\n",
    "    { 'ID':1, 'Game':'Some Game',    'Version':'1.0', 'Barcode':'1234567', 'MAC':'aabbccaabbcc', 'IP':'192.168.0.10', 'Location':'Garage'  },\n",
    "    { 'ID':2, 'Game':'Another Game', 'Version':'1.1', 'Barcode':'2345678', 'MAC':'bbccaabbccaa', 'IP':'192.168.0.11', 'Location':'Garage'  },\n",
    "    { 'ID':3, 'Game':'Cool Game',    'Version':'1.0', 'Barcode':'3456789', 'MAC':'ccaabbccaabb', 'IP':'192.168.0.12', 'Location':'Garage'  },\n",
    "    { 'ID':4, 'Game':'Lame Game',    'Version':'2.0', 'Barcode':'4567890', 'MAC':'aaccbbaaccbb', 'IP':'192.168.1.10', 'Location':'Barcade' },\n",
    "    { 'ID':5, 'Game':'Fave Game',    'Version':'3.0', 'Barcode':'5678901', 'MAC':'ccbbaaccbbaa', 'IP':'192.168.1.11', 'Location':'Barcade' }\n",
    "]\n",
    "\n",
    "with eng.connect() as con:\n",
    "    con.execute(Games.insert().values(exampleGames))    \n",
    "    for i in range(10000):\n",
    "        con.execute(GamePlays.insert().values(\n",
    "            GameID=randint(1,5),\n",
    "            players=randint(1,2),\n",
    "            playtime=randint(10,300),\n",
    "            Timestamp=datetime(2021,1,1)+timedelta(days=randrange(365), minutes=randrange(24*60))))"
   ]
  },
  {
   "cell_type": "markdown",
   "id": "3fddd2cc",
   "metadata": {},
   "source": [
    "### Inspect the generated data"
   ]
  },
  {
   "cell_type": "code",
   "execution_count": null,
   "id": "10be84fb",
   "metadata": {
    "scrolled": true
   },
   "outputs": [],
   "source": [
    "%sql SELECT * FROM Games"
   ]
  },
  {
   "cell_type": "code",
   "execution_count": null,
   "id": "74d2db1b",
   "metadata": {},
   "outputs": [],
   "source": [
    "%sql SELECT * FROM GamePlays LIMIT 10"
   ]
  },
  {
   "cell_type": "markdown",
   "id": "cd34c977",
   "metadata": {},
   "source": [
    "## Query: plays per game on a given day"
   ]
  },
  {
   "cell_type": "code",
   "execution_count": null,
   "id": "6f8c5139",
   "metadata": {},
   "outputs": [],
   "source": [
    "%%sql\n",
    "SELECT Game, COUNT(*) AS Plays\n",
    "FROM Gameplays JOIN Games ON GamePlays.GameID = Games.ID\n",
    "WHERE DATE(Timestamp) = '2021-05-01'\n",
    "GROUP BY Game\n",
    "ORDER BY Plays DESC"
   ]
  },
  {
   "cell_type": "code",
   "execution_count": null,
   "id": "de248e2d",
   "metadata": {},
   "outputs": [],
   "source": [
    "_.DataFrame().plot.bar(x='Game', y='Plays', title=\"Plays on 2021-05-01\")"
   ]
  },
  {
   "cell_type": "markdown",
   "id": "2afacda7",
   "metadata": {},
   "source": [
    "## Query: Plays per game on a given day, playtime >= 20 seconds"
   ]
  },
  {
   "cell_type": "code",
   "execution_count": null,
   "id": "7d025c53",
   "metadata": {},
   "outputs": [],
   "source": [
    "%%sql\n",
    "SELECT Game, COUNT(*) AS Plays\n",
    "FROM Gameplays JOIN Games ON GamePlays.GameID = Games.ID\n",
    "WHERE DATE(Timestamp) = '2021-05-01' AND playtime >= 20\n",
    "GROUP BY Game\n",
    "ORDER BY Plays DESC"
   ]
  },
  {
   "cell_type": "code",
   "execution_count": null,
   "id": "0f21da00",
   "metadata": {},
   "outputs": [],
   "source": [
    "_.DataFrame().plot.bar(x='Game', y='Plays', title=\"Plays (at least 20s) on 2021-05-01\")"
   ]
  },
  {
   "cell_type": "markdown",
   "id": "d9bb825c",
   "metadata": {},
   "source": [
    "## Query: plays per game on a given week"
   ]
  },
  {
   "cell_type": "code",
   "execution_count": null,
   "id": "6c18d712",
   "metadata": {},
   "outputs": [],
   "source": [
    "%%sql\n",
    "SELECT Game, COUNT(*) AS Plays\n",
    "FROM Gameplays JOIN Games ON GamePlays.GameID = Games.ID\n",
    "WHERE strftime('%W', Timestamp) = '17'\n",
    "GROUP BY Game\n",
    "ORDER BY Plays DESC"
   ]
  },
  {
   "cell_type": "code",
   "execution_count": null,
   "id": "20a09564",
   "metadata": {},
   "outputs": [],
   "source": [
    "_.DataFrame().plot.bar(x='Game', y='Plays', title=\"Plays during 2021 week 17\")"
   ]
  },
  {
   "cell_type": "markdown",
   "id": "2103f357",
   "metadata": {},
   "source": [
    "## Query: plays for particular game over a given month"
   ]
  },
  {
   "cell_type": "code",
   "execution_count": null,
   "id": "ff171118",
   "metadata": {},
   "outputs": [],
   "source": [
    "%%sql\n",
    "SELECT CAST(strftime('%d', Timestamp) AS INT) as Day, COUNT(*) AS Plays\n",
    "FROM Gameplays\n",
    "WHERE GameID=5 AND strftime('%m', Timestamp) = '04'\n",
    "GROUP BY day\n",
    "ORDER BY day"
   ]
  },
  {
   "cell_type": "code",
   "execution_count": null,
   "id": "d47001bb",
   "metadata": {},
   "outputs": [],
   "source": [
    "_.DataFrame().plot(x='Day', y='Plays', title='Plays of Fave Game during April 2021')"
   ]
  }
 ],
 "metadata": {
  "kernelspec": {
   "display_name": "Python 3",
   "language": "python",
   "name": "python3"
  },
  "language_info": {
   "codemirror_mode": {
    "name": "ipython",
    "version": 3
   },
   "file_extension": ".py",
   "mimetype": "text/x-python",
   "name": "python",
   "nbconvert_exporter": "python",
   "pygments_lexer": "ipython3",
   "version": "3.9.4"
  }
 },
 "nbformat": 4,
 "nbformat_minor": 5
}
