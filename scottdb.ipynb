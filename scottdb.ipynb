{
 "cells": [
  {
   "cell_type": "markdown",
   "id": "18551656",
   "metadata": {},
   "source": [
    "# Database examples for Scott\n",
    "\n",
    "### Connect notebook to database\n",
    "\n",
    "We'll use the ipython-sql modules for convenient access from the notebook, and a database file in the current directory named \"scottdb.sqlite\"."
   ]
  },
  {
   "cell_type": "code",
   "execution_count": 1,
   "id": "0d747ecd",
   "metadata": {
    "scrolled": true
   },
   "outputs": [],
   "source": [
    "%load_ext sql\n",
    "%sql sqlite:///scottdb.sqlite"
   ]
  },
  {
   "cell_type": "markdown",
   "id": "bbcecc5d",
   "metadata": {},
   "source": [
    "### Create database tables"
   ]
  },
  {
   "cell_type": "code",
   "execution_count": 2,
   "id": "6c161d3a",
   "metadata": {},
   "outputs": [
    {
     "name": "stdout",
     "output_type": "stream",
     "text": [
      " * sqlite:///scottdb.sqlite\n",
      "Done.\n",
      "Done.\n",
      "Done.\n",
      "Done.\n"
     ]
    },
    {
     "data": {
      "text/plain": [
       "[]"
      ]
     },
     "execution_count": 2,
     "metadata": {},
     "output_type": "execute_result"
    }
   ],
   "source": [
    "%%sql\n",
    "\n",
    "DROP TABLE IF EXISTS GamePlays;\n",
    "DROP TABLE IF EXISTS Games;\n",
    "\n",
    "CREATE TABLE Games (\n",
    "   ID INTEGER NOT NULL PRIMARY KEY,\n",
    "   Game TEXT,\n",
    "   Version TEXT,\n",
    "   Barcode TEXT,\n",
    "   MAC TEXT,\n",
    "   IP TEXT,\n",
    "   Location TEXT\n",
    ");\n",
    "\n",
    "CREATE TABLE GamePlays (\n",
    "   GameID INTEGER REFERENCES Games,\n",
    "   players INTEGER,\n",
    "   p1_fire INTEGER,\n",
    "   p2_fire INTEGER,\n",
    "   playtime INTEGER,\n",
    "   pwr_plays INTEGER,\n",
    "   p1_pwr_plays INTEGER,\n",
    "   p2_pwr_plays INTEGER,\n",
    "   Timestamp DATETIME NOT NULL DEFAULT CURRENT_TIMESTAMP      \n",
    ");"
   ]
  },
  {
   "cell_type": "markdown",
   "id": "9ff70f4d",
   "metadata": {},
   "source": [
    "### Insert some data\n",
    "\n",
    "This uses the \"sqlalchemy\" Python module which (more or less) automatically creates a bridge between Python objects and the database.  We insert a few example Games, and 10,000 random GamePlays in year 2021."
   ]
  },
  {
   "cell_type": "code",
   "execution_count": 3,
   "id": "5603d227",
   "metadata": {},
   "outputs": [],
   "source": [
    "from random import *\n",
    "from datetime import *\n",
    "\n",
    "import sqlalchemy as sa\n",
    "\n",
    "eng = sa.create_engine('sqlite:///scottdb.sqlite')\n",
    "meta = sa.MetaData()\n",
    "meta.reflect(bind=eng)\n",
    "\n",
    "Games = meta.tables['Games']\n",
    "GamePlays = meta.tables['GamePlays']\n",
    "\n",
    "exampleGames = [\n",
    "    { 'ID':1, 'Game':'Some Game',    'Version':'1.0', 'Barcode':'1234567', 'MAC':'aabbccaabbcc', 'IP':'192.168.0.10', 'Location':'Garage'  },\n",
    "    { 'ID':2, 'Game':'Another Game', 'Version':'1.1', 'Barcode':'2345678', 'MAC':'bbccaabbccaa', 'IP':'192.168.0.11', 'Location':'Garage'  },\n",
    "    { 'ID':3, 'Game':'Cool Game',    'Version':'1.0', 'Barcode':'3456789', 'MAC':'ccaabbccaabb', 'IP':'192.168.0.12', 'Location':'Garage'  },\n",
    "    { 'ID':4, 'Game':'Lame Game',    'Version':'2.0', 'Barcode':'4567890', 'MAC':'aaccbbaaccbb', 'IP':'192.168.1.10', 'Location':'Barcade' },\n",
    "    { 'ID':5, 'Game':'Fave Game',    'Version':'3.0', 'Barcode':'5678901', 'MAC':'ccbbaaccbbaa', 'IP':'192.168.1.11', 'Location':'Barcade' }\n",
    "]\n",
    "\n",
    "examplePlays = []\n",
    "for i in range(10000):\n",
    "    examplePlays.append({\n",
    "        'GameID':    randint(1,5),\n",
    "        'players':   randint(1,2),\n",
    "        'playtime':  randint(10,300),\n",
    "        'Timestamp': datetime(2021,1,1)+timedelta(days=randrange(365), minutes=randrange(24*60))\n",
    "    })\n",
    "\n",
    "\n",
    "with eng.connect() as con:\n",
    "    con.execute(Games.insert().values(exampleGames))    \n",
    "    con.execute(GamePlays.insert().values(examplePlays))"
   ]
  },
  {
   "cell_type": "markdown",
   "id": "3fddd2cc",
   "metadata": {},
   "source": [
    "### Inspect the generated data"
   ]
  },
  {
   "cell_type": "code",
   "execution_count": 4,
   "id": "10be84fb",
   "metadata": {
    "scrolled": true
   },
   "outputs": [
    {
     "name": "stdout",
     "output_type": "stream",
     "text": [
      " * sqlite:///scottdb.sqlite\n",
      "Done.\n"
     ]
    },
    {
     "data": {
      "text/html": [
       "<table>\n",
       "    <tr>\n",
       "        <th>ID</th>\n",
       "        <th>Game</th>\n",
       "        <th>Version</th>\n",
       "        <th>Barcode</th>\n",
       "        <th>MAC</th>\n",
       "        <th>IP</th>\n",
       "        <th>Location</th>\n",
       "    </tr>\n",
       "    <tr>\n",
       "        <td>1</td>\n",
       "        <td>Some Game</td>\n",
       "        <td>1.0</td>\n",
       "        <td>1234567</td>\n",
       "        <td>aabbccaabbcc</td>\n",
       "        <td>192.168.0.10</td>\n",
       "        <td>Garage</td>\n",
       "    </tr>\n",
       "    <tr>\n",
       "        <td>2</td>\n",
       "        <td>Another Game</td>\n",
       "        <td>1.1</td>\n",
       "        <td>2345678</td>\n",
       "        <td>bbccaabbccaa</td>\n",
       "        <td>192.168.0.11</td>\n",
       "        <td>Garage</td>\n",
       "    </tr>\n",
       "    <tr>\n",
       "        <td>3</td>\n",
       "        <td>Cool Game</td>\n",
       "        <td>1.0</td>\n",
       "        <td>3456789</td>\n",
       "        <td>ccaabbccaabb</td>\n",
       "        <td>192.168.0.12</td>\n",
       "        <td>Garage</td>\n",
       "    </tr>\n",
       "    <tr>\n",
       "        <td>4</td>\n",
       "        <td>Lame Game</td>\n",
       "        <td>2.0</td>\n",
       "        <td>4567890</td>\n",
       "        <td>aaccbbaaccbb</td>\n",
       "        <td>192.168.1.10</td>\n",
       "        <td>Barcade</td>\n",
       "    </tr>\n",
       "    <tr>\n",
       "        <td>5</td>\n",
       "        <td>Fave Game</td>\n",
       "        <td>3.0</td>\n",
       "        <td>5678901</td>\n",
       "        <td>ccbbaaccbbaa</td>\n",
       "        <td>192.168.1.11</td>\n",
       "        <td>Barcade</td>\n",
       "    </tr>\n",
       "</table>"
      ],
      "text/plain": [
       "[(1, 'Some Game', '1.0', '1234567', 'aabbccaabbcc', '192.168.0.10', 'Garage'),\n",
       " (2, 'Another Game', '1.1', '2345678', 'bbccaabbccaa', '192.168.0.11', 'Garage'),\n",
       " (3, 'Cool Game', '1.0', '3456789', 'ccaabbccaabb', '192.168.0.12', 'Garage'),\n",
       " (4, 'Lame Game', '2.0', '4567890', 'aaccbbaaccbb', '192.168.1.10', 'Barcade'),\n",
       " (5, 'Fave Game', '3.0', '5678901', 'ccbbaaccbbaa', '192.168.1.11', 'Barcade')]"
      ]
     },
     "execution_count": 4,
     "metadata": {},
     "output_type": "execute_result"
    }
   ],
   "source": [
    "%sql SELECT * FROM Games"
   ]
  },
  {
   "cell_type": "code",
   "execution_count": 5,
   "id": "74d2db1b",
   "metadata": {},
   "outputs": [
    {
     "name": "stdout",
     "output_type": "stream",
     "text": [
      " * sqlite:///scottdb.sqlite\n",
      "Done.\n"
     ]
    },
    {
     "data": {
      "text/html": [
       "<table>\n",
       "    <tr>\n",
       "        <th>GameID</th>\n",
       "        <th>players</th>\n",
       "        <th>p1_fire</th>\n",
       "        <th>p2_fire</th>\n",
       "        <th>playtime</th>\n",
       "        <th>pwr_plays</th>\n",
       "        <th>p1_pwr_plays</th>\n",
       "        <th>p2_pwr_plays</th>\n",
       "        <th>Timestamp</th>\n",
       "    </tr>\n",
       "    <tr>\n",
       "        <td>3</td>\n",
       "        <td>2</td>\n",
       "        <td>None</td>\n",
       "        <td>None</td>\n",
       "        <td>174</td>\n",
       "        <td>None</td>\n",
       "        <td>None</td>\n",
       "        <td>None</td>\n",
       "        <td>2021-04-12 00:18:00.000000</td>\n",
       "    </tr>\n",
       "    <tr>\n",
       "        <td>1</td>\n",
       "        <td>2</td>\n",
       "        <td>None</td>\n",
       "        <td>None</td>\n",
       "        <td>85</td>\n",
       "        <td>None</td>\n",
       "        <td>None</td>\n",
       "        <td>None</td>\n",
       "        <td>2021-06-25 08:08:00.000000</td>\n",
       "    </tr>\n",
       "    <tr>\n",
       "        <td>1</td>\n",
       "        <td>2</td>\n",
       "        <td>None</td>\n",
       "        <td>None</td>\n",
       "        <td>238</td>\n",
       "        <td>None</td>\n",
       "        <td>None</td>\n",
       "        <td>None</td>\n",
       "        <td>2021-08-02 20:58:00.000000</td>\n",
       "    </tr>\n",
       "    <tr>\n",
       "        <td>2</td>\n",
       "        <td>2</td>\n",
       "        <td>None</td>\n",
       "        <td>None</td>\n",
       "        <td>23</td>\n",
       "        <td>None</td>\n",
       "        <td>None</td>\n",
       "        <td>None</td>\n",
       "        <td>2021-04-20 04:29:00.000000</td>\n",
       "    </tr>\n",
       "    <tr>\n",
       "        <td>2</td>\n",
       "        <td>2</td>\n",
       "        <td>None</td>\n",
       "        <td>None</td>\n",
       "        <td>78</td>\n",
       "        <td>None</td>\n",
       "        <td>None</td>\n",
       "        <td>None</td>\n",
       "        <td>2021-03-22 19:49:00.000000</td>\n",
       "    </tr>\n",
       "    <tr>\n",
       "        <td>2</td>\n",
       "        <td>1</td>\n",
       "        <td>None</td>\n",
       "        <td>None</td>\n",
       "        <td>195</td>\n",
       "        <td>None</td>\n",
       "        <td>None</td>\n",
       "        <td>None</td>\n",
       "        <td>2021-02-12 04:19:00.000000</td>\n",
       "    </tr>\n",
       "    <tr>\n",
       "        <td>5</td>\n",
       "        <td>2</td>\n",
       "        <td>None</td>\n",
       "        <td>None</td>\n",
       "        <td>82</td>\n",
       "        <td>None</td>\n",
       "        <td>None</td>\n",
       "        <td>None</td>\n",
       "        <td>2021-02-06 16:33:00.000000</td>\n",
       "    </tr>\n",
       "    <tr>\n",
       "        <td>4</td>\n",
       "        <td>1</td>\n",
       "        <td>None</td>\n",
       "        <td>None</td>\n",
       "        <td>85</td>\n",
       "        <td>None</td>\n",
       "        <td>None</td>\n",
       "        <td>None</td>\n",
       "        <td>2021-11-17 10:56:00.000000</td>\n",
       "    </tr>\n",
       "    <tr>\n",
       "        <td>4</td>\n",
       "        <td>2</td>\n",
       "        <td>None</td>\n",
       "        <td>None</td>\n",
       "        <td>146</td>\n",
       "        <td>None</td>\n",
       "        <td>None</td>\n",
       "        <td>None</td>\n",
       "        <td>2021-10-22 22:03:00.000000</td>\n",
       "    </tr>\n",
       "    <tr>\n",
       "        <td>3</td>\n",
       "        <td>1</td>\n",
       "        <td>None</td>\n",
       "        <td>None</td>\n",
       "        <td>109</td>\n",
       "        <td>None</td>\n",
       "        <td>None</td>\n",
       "        <td>None</td>\n",
       "        <td>2021-07-28 05:33:00.000000</td>\n",
       "    </tr>\n",
       "</table>"
      ],
      "text/plain": [
       "[(3, 2, None, None, 174, None, None, None, '2021-04-12 00:18:00.000000'),\n",
       " (1, 2, None, None, 85, None, None, None, '2021-06-25 08:08:00.000000'),\n",
       " (1, 2, None, None, 238, None, None, None, '2021-08-02 20:58:00.000000'),\n",
       " (2, 2, None, None, 23, None, None, None, '2021-04-20 04:29:00.000000'),\n",
       " (2, 2, None, None, 78, None, None, None, '2021-03-22 19:49:00.000000'),\n",
       " (2, 1, None, None, 195, None, None, None, '2021-02-12 04:19:00.000000'),\n",
       " (5, 2, None, None, 82, None, None, None, '2021-02-06 16:33:00.000000'),\n",
       " (4, 1, None, None, 85, None, None, None, '2021-11-17 10:56:00.000000'),\n",
       " (4, 2, None, None, 146, None, None, None, '2021-10-22 22:03:00.000000'),\n",
       " (3, 1, None, None, 109, None, None, None, '2021-07-28 05:33:00.000000')]"
      ]
     },
     "execution_count": 5,
     "metadata": {},
     "output_type": "execute_result"
    }
   ],
   "source": [
    "%sql SELECT * FROM GamePlays LIMIT 10"
   ]
  },
  {
   "cell_type": "markdown",
   "id": "cd34c977",
   "metadata": {},
   "source": [
    "## Query: plays per game on a given day"
   ]
  },
  {
   "cell_type": "code",
   "execution_count": 6,
   "id": "6f8c5139",
   "metadata": {},
   "outputs": [
    {
     "name": "stdout",
     "output_type": "stream",
     "text": [
      " * sqlite:///scottdb.sqlite\n",
      "Done.\n"
     ]
    },
    {
     "data": {
      "text/html": [
       "<table>\n",
       "    <tr>\n",
       "        <th>Game</th>\n",
       "        <th>Plays</th>\n",
       "    </tr>\n",
       "    <tr>\n",
       "        <td>Fave Game</td>\n",
       "        <td>12</td>\n",
       "    </tr>\n",
       "    <tr>\n",
       "        <td>Cool Game</td>\n",
       "        <td>9</td>\n",
       "    </tr>\n",
       "    <tr>\n",
       "        <td>Lame Game</td>\n",
       "        <td>5</td>\n",
       "    </tr>\n",
       "    <tr>\n",
       "        <td>Another Game</td>\n",
       "        <td>4</td>\n",
       "    </tr>\n",
       "    <tr>\n",
       "        <td>Some Game</td>\n",
       "        <td>3</td>\n",
       "    </tr>\n",
       "</table>"
      ],
      "text/plain": [
       "[('Fave Game', 12),\n",
       " ('Cool Game', 9),\n",
       " ('Lame Game', 5),\n",
       " ('Another Game', 4),\n",
       " ('Some Game', 3)]"
      ]
     },
     "execution_count": 6,
     "metadata": {},
     "output_type": "execute_result"
    }
   ],
   "source": [
    "%%sql\n",
    "SELECT Game, SUM(players) AS Plays\n",
    "FROM Gameplays JOIN Games ON GamePlays.GameID = Games.ID\n",
    "WHERE DATE(Timestamp) = '2021-05-01'\n",
    "GROUP BY Game\n",
    "ORDER BY Plays DESC"
   ]
  },
  {
   "cell_type": "code",
   "execution_count": 7,
   "id": "de248e2d",
   "metadata": {},
   "outputs": [
    {
     "data": {
      "text/plain": [
       "<AxesSubplot:title={'center':'Plays on 2021-05-01'}, xlabel='Game'>"
      ]
     },
     "execution_count": 7,
     "metadata": {},
     "output_type": "execute_result"
    },
    {
     "data": {
      "image/png": "[encoded data removed]",
      "text/plain": [
       "<Figure size 432x288 with 1 Axes>"
      ]
     },
     "metadata": {
      "needs_background": "light"
     },
     "output_type": "display_data"
    }
   ],
   "source": [
    "_.DataFrame().plot.bar(x='Game', y='Plays', title=\"Plays on 2021-05-01\")"
   ]
  },
  {
   "cell_type": "markdown",
   "id": "2afacda7",
   "metadata": {},
   "source": [
    "## Query: Plays per game on a given day, playtime >= 100 seconds"
   ]
  },
  {
   "cell_type": "code",
   "execution_count": 8,
   "id": "7d025c53",
   "metadata": {},
   "outputs": [
    {
     "name": "stdout",
     "output_type": "stream",
     "text": [
      " * sqlite:///scottdb.sqlite\n",
      "Done.\n"
     ]
    },
    {
     "data": {
      "text/html": [
       "<table>\n",
       "    <tr>\n",
       "        <th>Game</th>\n",
       "        <th>Plays</th>\n",
       "    </tr>\n",
       "    <tr>\n",
       "        <td>Fave Game</td>\n",
       "        <td>11</td>\n",
       "    </tr>\n",
       "    <tr>\n",
       "        <td>Cool Game</td>\n",
       "        <td>6</td>\n",
       "    </tr>\n",
       "    <tr>\n",
       "        <td>Another Game</td>\n",
       "        <td>4</td>\n",
       "    </tr>\n",
       "    <tr>\n",
       "        <td>Lame Game</td>\n",
       "        <td>2</td>\n",
       "    </tr>\n",
       "    <tr>\n",
       "        <td>Some Game</td>\n",
       "        <td>1</td>\n",
       "    </tr>\n",
       "</table>"
      ],
      "text/plain": [
       "[('Fave Game', 11),\n",
       " ('Cool Game', 6),\n",
       " ('Another Game', 4),\n",
       " ('Lame Game', 2),\n",
       " ('Some Game', 1)]"
      ]
     },
     "execution_count": 8,
     "metadata": {},
     "output_type": "execute_result"
    }
   ],
   "source": [
    "%%sql\n",
    "SELECT Game, SUM(players) AS Plays\n",
    "FROM Gameplays JOIN Games ON GamePlays.GameID = Games.ID\n",
    "WHERE DATE(Timestamp) = '2021-05-01' AND playtime >= 100\n",
    "GROUP BY Game\n",
    "ORDER BY Plays DESC"
   ]
  },
  {
   "cell_type": "code",
   "execution_count": 9,
   "id": "0f21da00",
   "metadata": {},
   "outputs": [
    {
     "data": {
      "text/plain": [
       "<AxesSubplot:title={'center':'Plays (at least 100s) on 2021-05-01'}, xlabel='Game'>"
      ]
     },
     "execution_count": 9,
     "metadata": {},
     "output_type": "execute_result"
    },
    {
     "data": {
      "image/png": "[encoded data removed]",
      "text/plain": [
       "<Figure size 432x288 with 1 Axes>"
      ]
     },
     "metadata": {
      "needs_background": "light"
     },
     "output_type": "display_data"
    }
   ],
   "source": [
    "_.DataFrame().plot.bar(x='Game', y='Plays', title=\"Plays (at least 100s) on 2021-05-01\")"
   ]
  },
  {
   "cell_type": "markdown",
   "id": "d9bb825c",
   "metadata": {},
   "source": [
    "## Query: plays per game on a given week"
   ]
  },
  {
   "cell_type": "code",
   "execution_count": 10,
   "id": "6c18d712",
   "metadata": {},
   "outputs": [
    {
     "name": "stdout",
     "output_type": "stream",
     "text": [
      " * sqlite:///scottdb.sqlite\n",
      "Done.\n"
     ]
    },
    {
     "data": {
      "text/html": [
       "<table>\n",
       "    <tr>\n",
       "        <th>Game</th>\n",
       "        <th>Plays</th>\n",
       "    </tr>\n",
       "    <tr>\n",
       "        <td>Some Game</td>\n",
       "        <td>64</td>\n",
       "    </tr>\n",
       "    <tr>\n",
       "        <td>Cool Game</td>\n",
       "        <td>64</td>\n",
       "    </tr>\n",
       "    <tr>\n",
       "        <td>Another Game</td>\n",
       "        <td>64</td>\n",
       "    </tr>\n",
       "    <tr>\n",
       "        <td>Fave Game</td>\n",
       "        <td>59</td>\n",
       "    </tr>\n",
       "    <tr>\n",
       "        <td>Lame Game</td>\n",
       "        <td>46</td>\n",
       "    </tr>\n",
       "</table>"
      ],
      "text/plain": [
       "[('Some Game', 64),\n",
       " ('Cool Game', 64),\n",
       " ('Another Game', 64),\n",
       " ('Fave Game', 59),\n",
       " ('Lame Game', 46)]"
      ]
     },
     "execution_count": 10,
     "metadata": {},
     "output_type": "execute_result"
    }
   ],
   "source": [
    "%%sql\n",
    "SELECT Game, SUM(players) AS Plays\n",
    "FROM Gameplays JOIN Games ON GamePlays.GameID = Games.ID\n",
    "WHERE strftime('%W', Timestamp) = '17'\n",
    "GROUP BY Game\n",
    "ORDER BY Plays DESC"
   ]
  },
  {
   "cell_type": "code",
   "execution_count": 11,
   "id": "20a09564",
   "metadata": {},
   "outputs": [
    {
     "data": {
      "text/plain": [
       "<AxesSubplot:title={'center':'Plays during 2021 week 17'}, xlabel='Game'>"
      ]
     },
     "execution_count": 11,
     "metadata": {},
     "output_type": "execute_result"
    },
    {
     "data": {
      "image/png": "[encoded data removed]",
      "text/plain": [
       "<Figure size 432x288 with 1 Axes>"
      ]
     },
     "metadata": {
      "needs_background": "light"
     },
     "output_type": "display_data"
    }
   ],
   "source": [
    "_.DataFrame().plot.bar(x='Game', y='Plays', title=\"Plays during 2021 week 17\")"
   ]
  },
  {
   "cell_type": "markdown",
   "id": "2103f357",
   "metadata": {},
   "source": [
    "## Query: plays for particular game over a given month"
   ]
  },
  {
   "cell_type": "code",
   "execution_count": 12,
   "id": "ff171118",
   "metadata": {},
   "outputs": [
    {
     "name": "stdout",
     "output_type": "stream",
     "text": [
      " * sqlite:///scottdb.sqlite\n",
      "Done.\n"
     ]
    },
    {
     "data": {
      "text/html": [
       "<table>\n",
       "    <tr>\n",
       "        <th>Day</th>\n",
       "        <th>Plays</th>\n",
       "    </tr>\n",
       "    <tr>\n",
       "        <td>1</td>\n",
       "        <td>6</td>\n",
       "    </tr>\n",
       "    <tr>\n",
       "        <td>2</td>\n",
       "        <td>2</td>\n",
       "    </tr>\n",
       "    <tr>\n",
       "        <td>3</td>\n",
       "        <td>1</td>\n",
       "    </tr>\n",
       "    <tr>\n",
       "        <td>4</td>\n",
       "        <td>4</td>\n",
       "    </tr>\n",
       "    <tr>\n",
       "        <td>5</td>\n",
       "        <td>5</td>\n",
       "    </tr>\n",
       "    <tr>\n",
       "        <td>6</td>\n",
       "        <td>16</td>\n",
       "    </tr>\n",
       "    <tr>\n",
       "        <td>7</td>\n",
       "        <td>7</td>\n",
       "    </tr>\n",
       "    <tr>\n",
       "        <td>8</td>\n",
       "        <td>9</td>\n",
       "    </tr>\n",
       "    <tr>\n",
       "        <td>9</td>\n",
       "        <td>18</td>\n",
       "    </tr>\n",
       "    <tr>\n",
       "        <td>10</td>\n",
       "        <td>5</td>\n",
       "    </tr>\n",
       "    <tr>\n",
       "        <td>11</td>\n",
       "        <td>9</td>\n",
       "    </tr>\n",
       "    <tr>\n",
       "        <td>12</td>\n",
       "        <td>6</td>\n",
       "    </tr>\n",
       "    <tr>\n",
       "        <td>13</td>\n",
       "        <td>11</td>\n",
       "    </tr>\n",
       "    <tr>\n",
       "        <td>14</td>\n",
       "        <td>7</td>\n",
       "    </tr>\n",
       "    <tr>\n",
       "        <td>15</td>\n",
       "        <td>13</td>\n",
       "    </tr>\n",
       "    <tr>\n",
       "        <td>16</td>\n",
       "        <td>3</td>\n",
       "    </tr>\n",
       "    <tr>\n",
       "        <td>17</td>\n",
       "        <td>7</td>\n",
       "    </tr>\n",
       "    <tr>\n",
       "        <td>18</td>\n",
       "        <td>8</td>\n",
       "    </tr>\n",
       "    <tr>\n",
       "        <td>19</td>\n",
       "        <td>13</td>\n",
       "    </tr>\n",
       "    <tr>\n",
       "        <td>20</td>\n",
       "        <td>2</td>\n",
       "    </tr>\n",
       "    <tr>\n",
       "        <td>21</td>\n",
       "        <td>12</td>\n",
       "    </tr>\n",
       "    <tr>\n",
       "        <td>22</td>\n",
       "        <td>18</td>\n",
       "    </tr>\n",
       "    <tr>\n",
       "        <td>23</td>\n",
       "        <td>12</td>\n",
       "    </tr>\n",
       "    <tr>\n",
       "        <td>24</td>\n",
       "        <td>5</td>\n",
       "    </tr>\n",
       "    <tr>\n",
       "        <td>25</td>\n",
       "        <td>3</td>\n",
       "    </tr>\n",
       "    <tr>\n",
       "        <td>26</td>\n",
       "        <td>8</td>\n",
       "    </tr>\n",
       "    <tr>\n",
       "        <td>27</td>\n",
       "        <td>3</td>\n",
       "    </tr>\n",
       "    <tr>\n",
       "        <td>28</td>\n",
       "        <td>11</td>\n",
       "    </tr>\n",
       "    <tr>\n",
       "        <td>29</td>\n",
       "        <td>10</td>\n",
       "    </tr>\n",
       "    <tr>\n",
       "        <td>30</td>\n",
       "        <td>2</td>\n",
       "    </tr>\n",
       "</table>"
      ],
      "text/plain": [
       "[(1, 6),\n",
       " (2, 2),\n",
       " (3, 1),\n",
       " (4, 4),\n",
       " (5, 5),\n",
       " (6, 16),\n",
       " (7, 7),\n",
       " (8, 9),\n",
       " (9, 18),\n",
       " (10, 5),\n",
       " (11, 9),\n",
       " (12, 6),\n",
       " (13, 11),\n",
       " (14, 7),\n",
       " (15, 13),\n",
       " (16, 3),\n",
       " (17, 7),\n",
       " (18, 8),\n",
       " (19, 13),\n",
       " (20, 2),\n",
       " (21, 12),\n",
       " (22, 18),\n",
       " (23, 12),\n",
       " (24, 5),\n",
       " (25, 3),\n",
       " (26, 8),\n",
       " (27, 3),\n",
       " (28, 11),\n",
       " (29, 10),\n",
       " (30, 2)]"
      ]
     },
     "execution_count": 12,
     "metadata": {},
     "output_type": "execute_result"
    }
   ],
   "source": [
    "%%sql\n",
    "SELECT CAST(strftime('%d', Timestamp) AS INT) as Day, SUM(players) AS Plays\n",
    "FROM Gameplays\n",
    "WHERE GameID=5 AND strftime('%m', Timestamp) = '04'\n",
    "GROUP BY day\n",
    "ORDER BY day"
   ]
  },
  {
   "cell_type": "code",
   "execution_count": 13,
   "id": "d47001bb",
   "metadata": {},
   "outputs": [
    {
     "data": {
      "text/plain": [
       "<AxesSubplot:title={'center':'Plays of Fave Game during April 2021'}, xlabel='Day'>"
      ]
     },
     "execution_count": 13,
     "metadata": {},
     "output_type": "execute_result"
    },
    {
     "data": {
      "image/png": "[encoded data removed]",
      "text/plain": [
       "<Figure size 432x288 with 1 Axes>"
      ]
     },
     "metadata": {
      "needs_background": "light"
     },
     "output_type": "display_data"
    }
   ],
   "source": [
    "_.DataFrame().plot(x='Day', y='Plays', title='Plays of Fave Game during April 2021')"
   ]
  },
  {
   "cell_type": "markdown",
   "id": "74244046",
   "metadata": {},
   "source": [
    "## Hobbs update record with latest\n",
    "\n",
    "Here we use a compound primary key of (GameID, Date), and REPLACE SQL command to update if primary key matches something already there or insert otherwise."
   ]
  },
  {
   "cell_type": "code",
   "execution_count": 14,
   "id": "56e8f9d9",
   "metadata": {},
   "outputs": [
    {
     "name": "stdout",
     "output_type": "stream",
     "text": [
      " * sqlite:///scottdb.sqlite\n",
      "Done.\n",
      "Done.\n"
     ]
    },
    {
     "data": {
      "text/plain": [
       "[]"
      ]
     },
     "execution_count": 14,
     "metadata": {},
     "output_type": "execute_result"
    }
   ],
   "source": [
    "%%sql\n",
    "\n",
    "DROP TABLE IF EXISTS Hobbs;\n",
    "\n",
    "CREATE TABLE Hobbs (\n",
    "    GameID INTEGER REFERENCES Games,\n",
    "    Date INTEGER NOT NULL DEFAULT CURRENT_DATE,\n",
    "    Timestamp DATETIME NOT NULL DEFAULT CURRENT_TIMESTAMP,\n",
    "    Uptime INTEGER,\n",
    "    hobbs INTEGER,\n",
    "    PRIMARY KEY (GameID, Date)\n",
    ");"
   ]
  },
  {
   "cell_type": "code",
   "execution_count": 15,
   "id": "844b3dc8",
   "metadata": {},
   "outputs": [
    {
     "name": "stdout",
     "output_type": "stream",
     "text": [
      " * sqlite:///scottdb.sqlite\n",
      "1 rows affected.\n",
      "1 rows affected.\n",
      "1 rows affected.\n"
     ]
    },
    {
     "data": {
      "text/plain": [
       "[]"
      ]
     },
     "execution_count": 15,
     "metadata": {},
     "output_type": "execute_result"
    }
   ],
   "source": [
    "%%sql\n",
    "REPLACE INTO Hobbs (GameID, Uptime, hobbs) VALUES (5, 50, 500); -- new row\n",
    "REPLACE INTO Hobbs (GameID, Uptime, hobbs) VALUES (3, 150, 1500); -- new row\n",
    "REPLACE INTO Hobbs (GameID, Uptime, hobbs) VALUES (5, 200, 2000); -- replaces previous row (if run on same day)"
   ]
  },
  {
   "cell_type": "code",
   "execution_count": 16,
   "id": "ae759619",
   "metadata": {},
   "outputs": [
    {
     "name": "stdout",
     "output_type": "stream",
     "text": [
      " * sqlite:///scottdb.sqlite\n",
      "Done.\n"
     ]
    },
    {
     "data": {
      "text/html": [
       "<table>\n",
       "    <tr>\n",
       "        <th>GameID</th>\n",
       "        <th>Date</th>\n",
       "        <th>Timestamp</th>\n",
       "        <th>Uptime</th>\n",
       "        <th>hobbs</th>\n",
       "    </tr>\n",
       "    <tr>\n",
       "        <td>3</td>\n",
       "        <td>2021-05-03</td>\n",
       "        <td>2021-05-03 07:16:47</td>\n",
       "        <td>150</td>\n",
       "        <td>1500</td>\n",
       "    </tr>\n",
       "    <tr>\n",
       "        <td>5</td>\n",
       "        <td>2021-05-03</td>\n",
       "        <td>2021-05-03 07:16:47</td>\n",
       "        <td>200</td>\n",
       "        <td>2000</td>\n",
       "    </tr>\n",
       "</table>"
      ],
      "text/plain": [
       "[(3, '2021-05-03', '2021-05-03 07:16:47', 150, 1500),\n",
       " (5, '2021-05-03', '2021-05-03 07:16:47', 200, 2000)]"
      ]
     },
     "execution_count": 16,
     "metadata": {},
     "output_type": "execute_result"
    }
   ],
   "source": [
    "%sql SELECT * FROM Hobbs"
   ]
  }
 ],
 "metadata": {
  "kernelspec": {
   "display_name": "Python 3",
   "language": "python",
   "name": "python3"
  },
  "language_info": {
   "codemirror_mode": {
    "name": "ipython",
    "version": 3
   },
   "file_extension": ".py",
   "mimetype": "text/x-python",
   "name": "python",
   "nbconvert_exporter": "python",
   "pygments_lexer": "ipython3",
   "version": "3.9.4"
  }
 },
 "nbformat": 4,
 "nbformat_minor": 5
}
