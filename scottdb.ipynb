{
 "cells": [
  {
   "cell_type": "markdown",
   "id": "18551656",
   "metadata": {},
   "source": [
    "# Database examples for Scott\n",
    "\n",
    "### Connect notebook to database\n",
    "\n",
    "We'll use the ipython-sql modules for convenient access from the notebook, and a database file in the current directory named \"scottdb.sqlite\"."
   ]
  },
  {
   "cell_type": "code",
   "execution_count": 1,
   "id": "0d747ecd",
   "metadata": {
    "scrolled": true
   },
   "outputs": [],
   "source": [
    "%load_ext sql\n",
    "%sql sqlite:///scottdb.sqlite"
   ]
  },
  {
   "cell_type": "markdown",
   "id": "bbcecc5d",
   "metadata": {},
   "source": [
    "### Create database tables"
   ]
  },
  {
   "cell_type": "code",
   "execution_count": 2,
   "id": "6c161d3a",
   "metadata": {},
   "outputs": [
    {
     "name": "stdout",
     "output_type": "stream",
     "text": [
      " * sqlite:///scottdb.sqlite\n",
      "Done.\n",
      "Done.\n",
      "Done.\n",
      "Done.\n"
     ]
    },
    {
     "data": {
      "text/plain": [
       "[]"
      ]
     },
     "execution_count": 2,
     "metadata": {},
     "output_type": "execute_result"
    }
   ],
   "source": [
    "%%sql\n",
    "\n",
    "DROP TABLE IF EXISTS GamePlays;\n",
    "DROP TABLE IF EXISTS Games;\n",
    "\n",
    "CREATE TABLE Games (\n",
    "   ID INTEGER NOT NULL PRIMARY KEY,\n",
    "   Game TEXT,\n",
    "   Version TEXT,\n",
    "   Barcode TEXT,\n",
    "   MAC TEXT,\n",
    "   IP TEXT,\n",
    "   Location TEXT\n",
    ");\n",
    "\n",
    "CREATE TABLE GamePlays (\n",
    "   GameID INTEGER REFERENCES Games,\n",
    "   players INTEGER,\n",
    "   p1_fire INTEGER,\n",
    "   p2_fire INTEGER,\n",
    "   playtime INTEGER,\n",
    "   pwr_plays INTEGER,\n",
    "   p1_pwr_plays INTEGER,\n",
    "   p2_pwr_plays INTEGER,\n",
    "   Timestamp DATETIME NOT NULL DEFAULT CURRENT_TIMESTAMP      \n",
    ");"
   ]
  },
  {
   "cell_type": "markdown",
   "id": "9ff70f4d",
   "metadata": {},
   "source": [
    "### Insert some data\n",
    "\n",
    "This uses the \"sqlalchemy\" Python module which (more or less) automatically creates a bridge between Python objects and the database.  We insert a few example Games, and 10,000 random GamePlays in year 2021."
   ]
  },
  {
   "cell_type": "code",
   "execution_count": 3,
   "id": "5603d227",
   "metadata": {},
   "outputs": [],
   "source": [
    "from random import *\n",
    "from datetime import *\n",
    "\n",
    "import sqlalchemy as sa\n",
    "\n",
    "eng = sa.create_engine('sqlite:///scottdb.sqlite')\n",
    "meta = sa.MetaData()\n",
    "meta.reflect(bind=eng)\n",
    "\n",
    "Games = meta.tables['Games']\n",
    "GamePlays = meta.tables['GamePlays']\n",
    "\n",
    "exampleGames = [\n",
    "    { 'ID':1, 'Game':'Some Game',    'Version':'1.0', 'Barcode':'1234567', 'MAC':'aabbccaabbcc', 'IP':'192.168.0.10', 'Location':'Garage'  },\n",
    "    { 'ID':2, 'Game':'Another Game', 'Version':'1.1', 'Barcode':'2345678', 'MAC':'bbccaabbccaa', 'IP':'192.168.0.11', 'Location':'Garage'  },\n",
    "    { 'ID':3, 'Game':'Cool Game',    'Version':'1.0', 'Barcode':'3456789', 'MAC':'ccaabbccaabb', 'IP':'192.168.0.12', 'Location':'Garage'  },\n",
    "    { 'ID':4, 'Game':'Lame Game',    'Version':'2.0', 'Barcode':'4567890', 'MAC':'aaccbbaaccbb', 'IP':'192.168.1.10', 'Location':'Barcade' },\n",
    "    { 'ID':5, 'Game':'Fave Game',    'Version':'3.0', 'Barcode':'5678901', 'MAC':'ccbbaaccbbaa', 'IP':'192.168.1.11', 'Location':'Barcade' }\n",
    "]\n",
    "\n",
    "examplePlays = []\n",
    "for i in range(10000):\n",
    "    examplePlays.append({\n",
    "        'GameID':    randint(1,5),\n",
    "        'players':   randint(1,2),\n",
    "        'playtime':  randint(10,300),\n",
    "        'Timestamp': datetime(2021,1,1)+timedelta(days=randrange(365), minutes=randrange(24*60))\n",
    "    })\n",
    "\n",
    "\n",
    "with eng.connect() as con:\n",
    "    con.execute(Games.insert().values(exampleGames))    \n",
    "    con.execute(GamePlays.insert().values(examplePlays))"
   ]
  },
  {
   "cell_type": "markdown",
   "id": "3fddd2cc",
   "metadata": {},
   "source": [
    "### Inspect the generated data"
   ]
  },
  {
   "cell_type": "code",
   "execution_count": 4,
   "id": "10be84fb",
   "metadata": {
    "scrolled": true
   },
   "outputs": [
    {
     "name": "stdout",
     "output_type": "stream",
     "text": [
      " * sqlite:///scottdb.sqlite\n",
      "Done.\n"
     ]
    },
    {
     "data": {
      "text/html": [
       "<table>\n",
       "    <tr>\n",
       "        <th>ID</th>\n",
       "        <th>Game</th>\n",
       "        <th>Version</th>\n",
       "        <th>Barcode</th>\n",
       "        <th>MAC</th>\n",
       "        <th>IP</th>\n",
       "        <th>Location</th>\n",
       "    </tr>\n",
       "    <tr>\n",
       "        <td>1</td>\n",
       "        <td>Some Game</td>\n",
       "        <td>1.0</td>\n",
       "        <td>1234567</td>\n",
       "        <td>aabbccaabbcc</td>\n",
       "        <td>192.168.0.10</td>\n",
       "        <td>Garage</td>\n",
       "    </tr>\n",
       "    <tr>\n",
       "        <td>2</td>\n",
       "        <td>Another Game</td>\n",
       "        <td>1.1</td>\n",
       "        <td>2345678</td>\n",
       "        <td>bbccaabbccaa</td>\n",
       "        <td>192.168.0.11</td>\n",
       "        <td>Garage</td>\n",
       "    </tr>\n",
       "    <tr>\n",
       "        <td>3</td>\n",
       "        <td>Cool Game</td>\n",
       "        <td>1.0</td>\n",
       "        <td>3456789</td>\n",
       "        <td>ccaabbccaabb</td>\n",
       "        <td>192.168.0.12</td>\n",
       "        <td>Garage</td>\n",
       "    </tr>\n",
       "    <tr>\n",
       "        <td>4</td>\n",
       "        <td>Lame Game</td>\n",
       "        <td>2.0</td>\n",
       "        <td>4567890</td>\n",
       "        <td>aaccbbaaccbb</td>\n",
       "        <td>192.168.1.10</td>\n",
       "        <td>Barcade</td>\n",
       "    </tr>\n",
       "    <tr>\n",
       "        <td>5</td>\n",
       "        <td>Fave Game</td>\n",
       "        <td>3.0</td>\n",
       "        <td>5678901</td>\n",
       "        <td>ccbbaaccbbaa</td>\n",
       "        <td>192.168.1.11</td>\n",
       "        <td>Barcade</td>\n",
       "    </tr>\n",
       "</table>"
      ],
      "text/plain": [
       "[(1, 'Some Game', '1.0', '1234567', 'aabbccaabbcc', '192.168.0.10', 'Garage'),\n",
       " (2, 'Another Game', '1.1', '2345678', 'bbccaabbccaa', '192.168.0.11', 'Garage'),\n",
       " (3, 'Cool Game', '1.0', '3456789', 'ccaabbccaabb', '192.168.0.12', 'Garage'),\n",
       " (4, 'Lame Game', '2.0', '4567890', 'aaccbbaaccbb', '192.168.1.10', 'Barcade'),\n",
       " (5, 'Fave Game', '3.0', '5678901', 'ccbbaaccbbaa', '192.168.1.11', 'Barcade')]"
      ]
     },
     "execution_count": 4,
     "metadata": {},
     "output_type": "execute_result"
    }
   ],
   "source": [
    "%sql SELECT * FROM Games"
   ]
  },
  {
   "cell_type": "code",
   "execution_count": 5,
   "id": "74d2db1b",
   "metadata": {},
   "outputs": [
    {
     "name": "stdout",
     "output_type": "stream",
     "text": [
      " * sqlite:///scottdb.sqlite\n",
      "Done.\n"
     ]
    },
    {
     "data": {
      "text/html": [
       "<table>\n",
       "    <tr>\n",
       "        <th>GameID</th>\n",
       "        <th>players</th>\n",
       "        <th>p1_fire</th>\n",
       "        <th>p2_fire</th>\n",
       "        <th>playtime</th>\n",
       "        <th>pwr_plays</th>\n",
       "        <th>p1_pwr_plays</th>\n",
       "        <th>p2_pwr_plays</th>\n",
       "        <th>Timestamp</th>\n",
       "    </tr>\n",
       "    <tr>\n",
       "        <td>2</td>\n",
       "        <td>2</td>\n",
       "        <td>None</td>\n",
       "        <td>None</td>\n",
       "        <td>183</td>\n",
       "        <td>None</td>\n",
       "        <td>None</td>\n",
       "        <td>None</td>\n",
       "        <td>2021-12-09 21:17:00.000000</td>\n",
       "    </tr>\n",
       "    <tr>\n",
       "        <td>4</td>\n",
       "        <td>2</td>\n",
       "        <td>None</td>\n",
       "        <td>None</td>\n",
       "        <td>253</td>\n",
       "        <td>None</td>\n",
       "        <td>None</td>\n",
       "        <td>None</td>\n",
       "        <td>2021-12-10 00:41:00.000000</td>\n",
       "    </tr>\n",
       "    <tr>\n",
       "        <td>2</td>\n",
       "        <td>1</td>\n",
       "        <td>None</td>\n",
       "        <td>None</td>\n",
       "        <td>200</td>\n",
       "        <td>None</td>\n",
       "        <td>None</td>\n",
       "        <td>None</td>\n",
       "        <td>2021-08-27 20:16:00.000000</td>\n",
       "    </tr>\n",
       "    <tr>\n",
       "        <td>4</td>\n",
       "        <td>1</td>\n",
       "        <td>None</td>\n",
       "        <td>None</td>\n",
       "        <td>163</td>\n",
       "        <td>None</td>\n",
       "        <td>None</td>\n",
       "        <td>None</td>\n",
       "        <td>2021-09-01 15:07:00.000000</td>\n",
       "    </tr>\n",
       "    <tr>\n",
       "        <td>2</td>\n",
       "        <td>1</td>\n",
       "        <td>None</td>\n",
       "        <td>None</td>\n",
       "        <td>195</td>\n",
       "        <td>None</td>\n",
       "        <td>None</td>\n",
       "        <td>None</td>\n",
       "        <td>2021-06-07 04:03:00.000000</td>\n",
       "    </tr>\n",
       "    <tr>\n",
       "        <td>5</td>\n",
       "        <td>1</td>\n",
       "        <td>None</td>\n",
       "        <td>None</td>\n",
       "        <td>161</td>\n",
       "        <td>None</td>\n",
       "        <td>None</td>\n",
       "        <td>None</td>\n",
       "        <td>2021-01-14 22:19:00.000000</td>\n",
       "    </tr>\n",
       "    <tr>\n",
       "        <td>2</td>\n",
       "        <td>1</td>\n",
       "        <td>None</td>\n",
       "        <td>None</td>\n",
       "        <td>48</td>\n",
       "        <td>None</td>\n",
       "        <td>None</td>\n",
       "        <td>None</td>\n",
       "        <td>2021-01-28 08:57:00.000000</td>\n",
       "    </tr>\n",
       "    <tr>\n",
       "        <td>1</td>\n",
       "        <td>2</td>\n",
       "        <td>None</td>\n",
       "        <td>None</td>\n",
       "        <td>116</td>\n",
       "        <td>None</td>\n",
       "        <td>None</td>\n",
       "        <td>None</td>\n",
       "        <td>2021-12-20 03:40:00.000000</td>\n",
       "    </tr>\n",
       "    <tr>\n",
       "        <td>5</td>\n",
       "        <td>2</td>\n",
       "        <td>None</td>\n",
       "        <td>None</td>\n",
       "        <td>129</td>\n",
       "        <td>None</td>\n",
       "        <td>None</td>\n",
       "        <td>None</td>\n",
       "        <td>2021-08-09 22:00:00.000000</td>\n",
       "    </tr>\n",
       "    <tr>\n",
       "        <td>5</td>\n",
       "        <td>2</td>\n",
       "        <td>None</td>\n",
       "        <td>None</td>\n",
       "        <td>68</td>\n",
       "        <td>None</td>\n",
       "        <td>None</td>\n",
       "        <td>None</td>\n",
       "        <td>2021-08-04 09:38:00.000000</td>\n",
       "    </tr>\n",
       "</table>"
      ],
      "text/plain": [
       "[(2, 2, None, None, 183, None, None, None, '2021-12-09 21:17:00.000000'),\n",
       " (4, 2, None, None, 253, None, None, None, '2021-12-10 00:41:00.000000'),\n",
       " (2, 1, None, None, 200, None, None, None, '2021-08-27 20:16:00.000000'),\n",
       " (4, 1, None, None, 163, None, None, None, '2021-09-01 15:07:00.000000'),\n",
       " (2, 1, None, None, 195, None, None, None, '2021-06-07 04:03:00.000000'),\n",
       " (5, 1, None, None, 161, None, None, None, '2021-01-14 22:19:00.000000'),\n",
       " (2, 1, None, None, 48, None, None, None, '2021-01-28 08:57:00.000000'),\n",
       " (1, 2, None, None, 116, None, None, None, '2021-12-20 03:40:00.000000'),\n",
       " (5, 2, None, None, 129, None, None, None, '2021-08-09 22:00:00.000000'),\n",
       " (5, 2, None, None, 68, None, None, None, '2021-08-04 09:38:00.000000')]"
      ]
     },
     "execution_count": 5,
     "metadata": {},
     "output_type": "execute_result"
    }
   ],
   "source": [
    "%sql SELECT * FROM GamePlays LIMIT 10"
   ]
  },
  {
   "cell_type": "markdown",
   "id": "cd34c977",
   "metadata": {},
   "source": [
    "## Query: plays per game on a given day"
   ]
  },
  {
   "cell_type": "code",
   "execution_count": 6,
   "id": "6f8c5139",
   "metadata": {},
   "outputs": [
    {
     "name": "stdout",
     "output_type": "stream",
     "text": [
      " * sqlite:///scottdb.sqlite\n",
      "Done.\n"
     ]
    },
    {
     "data": {
      "text/html": [
       "<table>\n",
       "    <tr>\n",
       "        <th>Game</th>\n",
       "        <th>Plays</th>\n",
       "    </tr>\n",
       "    <tr>\n",
       "        <td>Lame Game</td>\n",
       "        <td>8</td>\n",
       "    </tr>\n",
       "    <tr>\n",
       "        <td>Cool Game</td>\n",
       "        <td>8</td>\n",
       "    </tr>\n",
       "    <tr>\n",
       "        <td>Another Game</td>\n",
       "        <td>5</td>\n",
       "    </tr>\n",
       "    <tr>\n",
       "        <td>Fave Game</td>\n",
       "        <td>4</td>\n",
       "    </tr>\n",
       "    <tr>\n",
       "        <td>Some Game</td>\n",
       "        <td>3</td>\n",
       "    </tr>\n",
       "</table>"
      ],
      "text/plain": [
       "[('Lame Game', 8),\n",
       " ('Cool Game', 8),\n",
       " ('Another Game', 5),\n",
       " ('Fave Game', 4),\n",
       " ('Some Game', 3)]"
      ]
     },
     "execution_count": 6,
     "metadata": {},
     "output_type": "execute_result"
    }
   ],
   "source": [
    "%%sql\n",
    "SELECT Game, COUNT(*) AS Plays\n",
    "FROM Gameplays JOIN Games ON GamePlays.GameID = Games.ID\n",
    "WHERE DATE(Timestamp) = '2021-05-01'\n",
    "GROUP BY Game\n",
    "ORDER BY Plays DESC"
   ]
  },
  {
   "cell_type": "code",
   "execution_count": 7,
   "id": "de248e2d",
   "metadata": {},
   "outputs": [
    {
     "data": {
      "text/plain": [
       "<AxesSubplot:title={'center':'Plays on 2021-05-01'}, xlabel='Game'>"
      ]
     },
     "execution_count": 7,
     "metadata": {},
     "output_type": "execute_result"
    },
    {
     "data": {
      "image/png": "[encoded data removed]",
      "text/plain": [
       "<Figure size 432x288 with 1 Axes>"
      ]
     },
     "metadata": {
      "needs_background": "light"
     },
     "output_type": "display_data"
    }
   ],
   "source": [
    "_.DataFrame().plot.bar(x='Game', y='Plays', title=\"Plays on 2021-05-01\")"
   ]
  },
  {
   "cell_type": "markdown",
   "id": "2afacda7",
   "metadata": {},
   "source": [
    "## Query: Plays per game on a given day, playtime >= 20 seconds"
   ]
  },
  {
   "cell_type": "code",
   "execution_count": 8,
   "id": "7d025c53",
   "metadata": {},
   "outputs": [
    {
     "name": "stdout",
     "output_type": "stream",
     "text": [
      " * sqlite:///scottdb.sqlite\n",
      "Done.\n"
     ]
    },
    {
     "data": {
      "text/html": [
       "<table>\n",
       "    <tr>\n",
       "        <th>Game</th>\n",
       "        <th>Plays</th>\n",
       "    </tr>\n",
       "    <tr>\n",
       "        <td>Lame Game</td>\n",
       "        <td>8</td>\n",
       "    </tr>\n",
       "    <tr>\n",
       "        <td>Cool Game</td>\n",
       "        <td>8</td>\n",
       "    </tr>\n",
       "    <tr>\n",
       "        <td>Another Game</td>\n",
       "        <td>5</td>\n",
       "    </tr>\n",
       "    <tr>\n",
       "        <td>Fave Game</td>\n",
       "        <td>4</td>\n",
       "    </tr>\n",
       "    <tr>\n",
       "        <td>Some Game</td>\n",
       "        <td>3</td>\n",
       "    </tr>\n",
       "</table>"
      ],
      "text/plain": [
       "[('Lame Game', 8),\n",
       " ('Cool Game', 8),\n",
       " ('Another Game', 5),\n",
       " ('Fave Game', 4),\n",
       " ('Some Game', 3)]"
      ]
     },
     "execution_count": 8,
     "metadata": {},
     "output_type": "execute_result"
    }
   ],
   "source": [
    "%%sql\n",
    "SELECT Game, COUNT(*) AS Plays\n",
    "FROM Gameplays JOIN Games ON GamePlays.GameID = Games.ID\n",
    "WHERE DATE(Timestamp) = '2021-05-01' AND playtime >= 20\n",
    "GROUP BY Game\n",
    "ORDER BY Plays DESC"
   ]
  },
  {
   "cell_type": "code",
   "execution_count": 9,
   "id": "0f21da00",
   "metadata": {},
   "outputs": [
    {
     "data": {
      "text/plain": [
       "<AxesSubplot:title={'center':'Plays (at least 20s) on 2021-05-01'}, xlabel='Game'>"
      ]
     },
     "execution_count": 9,
     "metadata": {},
     "output_type": "execute_result"
    },
    {
     "data": {
      "image/png": "[encoded data removed]",
      "text/plain": [
       "<Figure size 432x288 with 1 Axes>"
      ]
     },
     "metadata": {
      "needs_background": "light"
     },
     "output_type": "display_data"
    }
   ],
   "source": [
    "_.DataFrame().plot.bar(x='Game', y='Plays', title=\"Plays (at least 20s) on 2021-05-01\")"
   ]
  },
  {
   "cell_type": "markdown",
   "id": "d9bb825c",
   "metadata": {},
   "source": [
    "## Query: plays per game on a given week"
   ]
  },
  {
   "cell_type": "code",
   "execution_count": 10,
   "id": "6c18d712",
   "metadata": {},
   "outputs": [
    {
     "name": "stdout",
     "output_type": "stream",
     "text": [
      " * sqlite:///scottdb.sqlite\n",
      "Done.\n"
     ]
    },
    {
     "data": {
      "text/html": [
       "<table>\n",
       "    <tr>\n",
       "        <th>Game</th>\n",
       "        <th>Plays</th>\n",
       "    </tr>\n",
       "    <tr>\n",
       "        <td>Another Game</td>\n",
       "        <td>49</td>\n",
       "    </tr>\n",
       "    <tr>\n",
       "        <td>Fave Game</td>\n",
       "        <td>42</td>\n",
       "    </tr>\n",
       "    <tr>\n",
       "        <td>Lame Game</td>\n",
       "        <td>40</td>\n",
       "    </tr>\n",
       "    <tr>\n",
       "        <td>Cool Game</td>\n",
       "        <td>40</td>\n",
       "    </tr>\n",
       "    <tr>\n",
       "        <td>Some Game</td>\n",
       "        <td>36</td>\n",
       "    </tr>\n",
       "</table>"
      ],
      "text/plain": [
       "[('Another Game', 49),\n",
       " ('Fave Game', 42),\n",
       " ('Lame Game', 40),\n",
       " ('Cool Game', 40),\n",
       " ('Some Game', 36)]"
      ]
     },
     "execution_count": 10,
     "metadata": {},
     "output_type": "execute_result"
    }
   ],
   "source": [
    "%%sql\n",
    "SELECT Game, COUNT(*) AS Plays\n",
    "FROM Gameplays JOIN Games ON GamePlays.GameID = Games.ID\n",
    "WHERE strftime('%W', Timestamp) = '17'\n",
    "GROUP BY Game\n",
    "ORDER BY Plays DESC"
   ]
  },
  {
   "cell_type": "code",
   "execution_count": 11,
   "id": "20a09564",
   "metadata": {},
   "outputs": [
    {
     "data": {
      "text/plain": [
       "<AxesSubplot:title={'center':'Plays during 2021 week 17'}, xlabel='Game'>"
      ]
     },
     "execution_count": 11,
     "metadata": {},
     "output_type": "execute_result"
    },
    {
     "data": {
      "image/png": "[encoded data removed]",
      "text/plain": [
       "<Figure size 432x288 with 1 Axes>"
      ]
     },
     "metadata": {
      "needs_background": "light"
     },
     "output_type": "display_data"
    }
   ],
   "source": [
    "_.DataFrame().plot.bar(x='Game', y='Plays', title=\"Plays during 2021 week 17\")"
   ]
  },
  {
   "cell_type": "markdown",
   "id": "2103f357",
   "metadata": {},
   "source": [
    "## Query: plays for particular game over a given month"
   ]
  },
  {
   "cell_type": "code",
   "execution_count": 12,
   "id": "ff171118",
   "metadata": {},
   "outputs": [
    {
     "name": "stdout",
     "output_type": "stream",
     "text": [
      " * sqlite:///scottdb.sqlite\n",
      "Done.\n"
     ]
    },
    {
     "data": {
      "text/html": [
       "<table>\n",
       "    <tr>\n",
       "        <th>Day</th>\n",
       "        <th>Plays</th>\n",
       "    </tr>\n",
       "    <tr>\n",
       "        <td>1</td>\n",
       "        <td>3</td>\n",
       "    </tr>\n",
       "    <tr>\n",
       "        <td>2</td>\n",
       "        <td>5</td>\n",
       "    </tr>\n",
       "    <tr>\n",
       "        <td>3</td>\n",
       "        <td>7</td>\n",
       "    </tr>\n",
       "    <tr>\n",
       "        <td>4</td>\n",
       "        <td>8</td>\n",
       "    </tr>\n",
       "    <tr>\n",
       "        <td>5</td>\n",
       "        <td>8</td>\n",
       "    </tr>\n",
       "    <tr>\n",
       "        <td>6</td>\n",
       "        <td>5</td>\n",
       "    </tr>\n",
       "    <tr>\n",
       "        <td>7</td>\n",
       "        <td>6</td>\n",
       "    </tr>\n",
       "    <tr>\n",
       "        <td>8</td>\n",
       "        <td>8</td>\n",
       "    </tr>\n",
       "    <tr>\n",
       "        <td>9</td>\n",
       "        <td>4</td>\n",
       "    </tr>\n",
       "    <tr>\n",
       "        <td>10</td>\n",
       "        <td>7</td>\n",
       "    </tr>\n",
       "    <tr>\n",
       "        <td>11</td>\n",
       "        <td>3</td>\n",
       "    </tr>\n",
       "    <tr>\n",
       "        <td>12</td>\n",
       "        <td>7</td>\n",
       "    </tr>\n",
       "    <tr>\n",
       "        <td>13</td>\n",
       "        <td>9</td>\n",
       "    </tr>\n",
       "    <tr>\n",
       "        <td>14</td>\n",
       "        <td>4</td>\n",
       "    </tr>\n",
       "    <tr>\n",
       "        <td>15</td>\n",
       "        <td>7</td>\n",
       "    </tr>\n",
       "    <tr>\n",
       "        <td>16</td>\n",
       "        <td>7</td>\n",
       "    </tr>\n",
       "    <tr>\n",
       "        <td>17</td>\n",
       "        <td>5</td>\n",
       "    </tr>\n",
       "    <tr>\n",
       "        <td>18</td>\n",
       "        <td>5</td>\n",
       "    </tr>\n",
       "    <tr>\n",
       "        <td>19</td>\n",
       "        <td>7</td>\n",
       "    </tr>\n",
       "    <tr>\n",
       "        <td>20</td>\n",
       "        <td>5</td>\n",
       "    </tr>\n",
       "    <tr>\n",
       "        <td>21</td>\n",
       "        <td>7</td>\n",
       "    </tr>\n",
       "    <tr>\n",
       "        <td>22</td>\n",
       "        <td>3</td>\n",
       "    </tr>\n",
       "    <tr>\n",
       "        <td>23</td>\n",
       "        <td>7</td>\n",
       "    </tr>\n",
       "    <tr>\n",
       "        <td>24</td>\n",
       "        <td>5</td>\n",
       "    </tr>\n",
       "    <tr>\n",
       "        <td>25</td>\n",
       "        <td>6</td>\n",
       "    </tr>\n",
       "    <tr>\n",
       "        <td>26</td>\n",
       "        <td>9</td>\n",
       "    </tr>\n",
       "    <tr>\n",
       "        <td>27</td>\n",
       "        <td>7</td>\n",
       "    </tr>\n",
       "    <tr>\n",
       "        <td>28</td>\n",
       "        <td>7</td>\n",
       "    </tr>\n",
       "    <tr>\n",
       "        <td>29</td>\n",
       "        <td>2</td>\n",
       "    </tr>\n",
       "    <tr>\n",
       "        <td>30</td>\n",
       "        <td>8</td>\n",
       "    </tr>\n",
       "</table>"
      ],
      "text/plain": [
       "[(1, 3),\n",
       " (2, 5),\n",
       " (3, 7),\n",
       " (4, 8),\n",
       " (5, 8),\n",
       " (6, 5),\n",
       " (7, 6),\n",
       " (8, 8),\n",
       " (9, 4),\n",
       " (10, 7),\n",
       " (11, 3),\n",
       " (12, 7),\n",
       " (13, 9),\n",
       " (14, 4),\n",
       " (15, 7),\n",
       " (16, 7),\n",
       " (17, 5),\n",
       " (18, 5),\n",
       " (19, 7),\n",
       " (20, 5),\n",
       " (21, 7),\n",
       " (22, 3),\n",
       " (23, 7),\n",
       " (24, 5),\n",
       " (25, 6),\n",
       " (26, 9),\n",
       " (27, 7),\n",
       " (28, 7),\n",
       " (29, 2),\n",
       " (30, 8)]"
      ]
     },
     "execution_count": 12,
     "metadata": {},
     "output_type": "execute_result"
    }
   ],
   "source": [
    "%%sql\n",
    "SELECT CAST(strftime('%d', Timestamp) AS INT) as Day, COUNT(*) AS Plays\n",
    "FROM Gameplays\n",
    "WHERE GameID=5 AND strftime('%m', Timestamp) = '04'\n",
    "GROUP BY day\n",
    "ORDER BY day"
   ]
  },
  {
   "cell_type": "code",
   "execution_count": 13,
   "id": "d47001bb",
   "metadata": {},
   "outputs": [
    {
     "data": {
      "text/plain": [
       "<AxesSubplot:title={'center':'Plays of Fave Game during April 2021'}, xlabel='Day'>"
      ]
     },
     "execution_count": 13,
     "metadata": {},
     "output_type": "execute_result"
    },
    {
     "data": {
      "image/png": "[encoded data removed]",
      "text/plain": [
       "<Figure size 432x288 with 1 Axes>"
      ]
     },
     "metadata": {
      "needs_background": "light"
     },
     "output_type": "display_data"
    }
   ],
   "source": [
    "_.DataFrame().plot(x='Day', y='Plays', title='Plays of Fave Game during April 2021')"
   ]
  }
 ],
 "metadata": {
  "kernelspec": {
   "display_name": "Python 3",
   "language": "python",
   "name": "python3"
  },
  "language_info": {
   "codemirror_mode": {
    "name": "ipython",
    "version": 3
   },
   "file_extension": ".py",
   "mimetype": "text/x-python",
   "name": "python",
   "nbconvert_exporter": "python",
   "pygments_lexer": "ipython3",
   "version": "3.9.4"
  }
 },
 "nbformat": 4,
 "nbformat_minor": 5
}
